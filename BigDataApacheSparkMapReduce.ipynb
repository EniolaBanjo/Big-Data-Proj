{
  "nbformat": 4,
  "nbformat_minor": 0,
  "metadata": {
    "colab": {
      "provenance": []
    },
    "kernelspec": {
      "name": "python3",
      "display_name": "Python 3"
    },
    "language_info": {
      "name": "python"
    }
  },
  "cells": [
    {
      "cell_type": "code",
      "execution_count": 1,
      "metadata": {
        "id": "uRF5yQRRfxm2"
      },
      "outputs": [],
      "source": [
        "!apt-get install openjdk-8-jdk-headless -qq > /dev/null"
      ]
    },
    {
      "cell_type": "code",
      "source": [
        "!wget https://archive.apache.org/dist/spark/spark-3.5.1/spark-3.5.1-bin-hadoop3.tgz\n",
        "!tar xf spark-3.5.1-bin-hadoop3.tgz\n",
        "!rm spark-3.5.1-bin-hadoop3.tgz   # Tidying up"
      ],
      "metadata": {
        "colab": {
          "base_uri": "https://localhost:8080/"
        },
        "id": "3T43LZItf4Ke",
        "outputId": "02f78e30-b0ca-4485-9898-88e4e182c40b"
      },
      "execution_count": 2,
      "outputs": [
        {
          "output_type": "stream",
          "name": "stdout",
          "text": [
            "--2025-03-25 00:39:54--  https://archive.apache.org/dist/spark/spark-3.5.1/spark-3.5.1-bin-hadoop3.tgz\n",
            "Resolving archive.apache.org (archive.apache.org)... 65.108.204.189, 2a01:4f9:1a:a084::2\n",
            "Connecting to archive.apache.org (archive.apache.org)|65.108.204.189|:443... connected.\n",
            "HTTP request sent, awaiting response... 200 OK\n",
            "Length: 400446614 (382M) [application/x-gzip]\n",
            "Saving to: ‘spark-3.5.1-bin-hadoop3.tgz’\n",
            "\n",
            "spark-3.5.1-bin-had 100%[===================>] 381.90M  23.0MB/s    in 20s     \n",
            "\n",
            "2025-03-25 00:40:15 (19.1 MB/s) - ‘spark-3.5.1-bin-hadoop3.tgz’ saved [400446614/400446614]\n",
            "\n"
          ]
        }
      ]
    },
    {
      "cell_type": "code",
      "source": [
        "import os\n",
        "os.environ[\"JAVA_HOME\"] = \"/usr/lib/jvm/java-8-openjdk-amd64\"\n",
        "os.environ[\"SPARK_HOME\"] = \"/content/spark-3.5.1-bin-hadoop3\""
      ],
      "metadata": {
        "id": "WBH1ncZngAOU"
      },
      "execution_count": 3,
      "outputs": []
    },
    {
      "cell_type": "code",
      "source": [
        "!pip install -q findspark\n",
        "import findspark\n",
        "findspark.init()"
      ],
      "metadata": {
        "id": "yAp-3GAXgHCJ"
      },
      "execution_count": 4,
      "outputs": []
    },
    {
      "cell_type": "code",
      "source": [
        "from pyspark.sql import SparkSession\n",
        "spark = SparkSession.builder.master(\"local[*]\").getOrCreate()\n",
        "spark.conf.set(\"spark.sql.repl.eagerEval.enabled\", True)\n",
        "spark"
      ],
      "metadata": {
        "colab": {
          "base_uri": "https://localhost:8080/",
          "height": 219
        },
        "id": "dFnO0YqagPAD",
        "outputId": "099302fa-896c-4afd-dfea-953771d1dafd"
      },
      "execution_count": 5,
      "outputs": [
        {
          "output_type": "execute_result",
          "data": {
            "text/plain": [
              "<pyspark.sql.session.SparkSession at 0x7f831c0a8950>"
            ],
            "text/html": [
              "\n",
              "            <div>\n",
              "                <p><b>SparkSession - in-memory</b></p>\n",
              "                \n",
              "        <div>\n",
              "            <p><b>SparkContext</b></p>\n",
              "\n",
              "            <p><a href=\"http://25a2d4a116d3:4040\">Spark UI</a></p>\n",
              "\n",
              "            <dl>\n",
              "              <dt>Version</dt>\n",
              "                <dd><code>v3.5.1</code></dd>\n",
              "              <dt>Master</dt>\n",
              "                <dd><code>local[*]</code></dd>\n",
              "              <dt>AppName</dt>\n",
              "                <dd><code>pyspark-shell</code></dd>\n",
              "            </dl>\n",
              "        </div>\n",
              "        \n",
              "            </div>\n",
              "        "
            ]
          },
          "metadata": {},
          "execution_count": 5
        }
      ]
    },
    {
      "cell_type": "code",
      "source": [
        "from google.colab import files\n",
        "\n",
        "uploaded = files.upload()"
      ],
      "metadata": {
        "colab": {
          "base_uri": "https://localhost:8080/",
          "height": 73
        },
        "id": "9wLURfJyKGpJ",
        "outputId": "be8ed589-6349-4d4d-cf0c-6f770e9593eb"
      },
      "execution_count": 7,
      "outputs": [
        {
          "output_type": "display_data",
          "data": {
            "text/plain": [
              "<IPython.core.display.HTML object>"
            ],
            "text/html": [
              "\n",
              "     <input type=\"file\" id=\"files-9e708430-f870-4d09-af38-81e9ecd8a516\" name=\"files[]\" multiple disabled\n",
              "        style=\"border:none\" />\n",
              "     <output id=\"result-9e708430-f870-4d09-af38-81e9ecd8a516\">\n",
              "      Upload widget is only available when the cell has been executed in the\n",
              "      current browser session. Please rerun this cell to enable.\n",
              "      </output>\n",
              "      <script>// Copyright 2017 Google LLC\n",
              "//\n",
              "// Licensed under the Apache License, Version 2.0 (the \"License\");\n",
              "// you may not use this file except in compliance with the License.\n",
              "// You may obtain a copy of the License at\n",
              "//\n",
              "//      http://www.apache.org/licenses/LICENSE-2.0\n",
              "//\n",
              "// Unless required by applicable law or agreed to in writing, software\n",
              "// distributed under the License is distributed on an \"AS IS\" BASIS,\n",
              "// WITHOUT WARRANTIES OR CONDITIONS OF ANY KIND, either express or implied.\n",
              "// See the License for the specific language governing permissions and\n",
              "// limitations under the License.\n",
              "\n",
              "/**\n",
              " * @fileoverview Helpers for google.colab Python module.\n",
              " */\n",
              "(function(scope) {\n",
              "function span(text, styleAttributes = {}) {\n",
              "  const element = document.createElement('span');\n",
              "  element.textContent = text;\n",
              "  for (const key of Object.keys(styleAttributes)) {\n",
              "    element.style[key] = styleAttributes[key];\n",
              "  }\n",
              "  return element;\n",
              "}\n",
              "\n",
              "// Max number of bytes which will be uploaded at a time.\n",
              "const MAX_PAYLOAD_SIZE = 100 * 1024;\n",
              "\n",
              "function _uploadFiles(inputId, outputId) {\n",
              "  const steps = uploadFilesStep(inputId, outputId);\n",
              "  const outputElement = document.getElementById(outputId);\n",
              "  // Cache steps on the outputElement to make it available for the next call\n",
              "  // to uploadFilesContinue from Python.\n",
              "  outputElement.steps = steps;\n",
              "\n",
              "  return _uploadFilesContinue(outputId);\n",
              "}\n",
              "\n",
              "// This is roughly an async generator (not supported in the browser yet),\n",
              "// where there are multiple asynchronous steps and the Python side is going\n",
              "// to poll for completion of each step.\n",
              "// This uses a Promise to block the python side on completion of each step,\n",
              "// then passes the result of the previous step as the input to the next step.\n",
              "function _uploadFilesContinue(outputId) {\n",
              "  const outputElement = document.getElementById(outputId);\n",
              "  const steps = outputElement.steps;\n",
              "\n",
              "  const next = steps.next(outputElement.lastPromiseValue);\n",
              "  return Promise.resolve(next.value.promise).then((value) => {\n",
              "    // Cache the last promise value to make it available to the next\n",
              "    // step of the generator.\n",
              "    outputElement.lastPromiseValue = value;\n",
              "    return next.value.response;\n",
              "  });\n",
              "}\n",
              "\n",
              "/**\n",
              " * Generator function which is called between each async step of the upload\n",
              " * process.\n",
              " * @param {string} inputId Element ID of the input file picker element.\n",
              " * @param {string} outputId Element ID of the output display.\n",
              " * @return {!Iterable<!Object>} Iterable of next steps.\n",
              " */\n",
              "function* uploadFilesStep(inputId, outputId) {\n",
              "  const inputElement = document.getElementById(inputId);\n",
              "  inputElement.disabled = false;\n",
              "\n",
              "  const outputElement = document.getElementById(outputId);\n",
              "  outputElement.innerHTML = '';\n",
              "\n",
              "  const pickedPromise = new Promise((resolve) => {\n",
              "    inputElement.addEventListener('change', (e) => {\n",
              "      resolve(e.target.files);\n",
              "    });\n",
              "  });\n",
              "\n",
              "  const cancel = document.createElement('button');\n",
              "  inputElement.parentElement.appendChild(cancel);\n",
              "  cancel.textContent = 'Cancel upload';\n",
              "  const cancelPromise = new Promise((resolve) => {\n",
              "    cancel.onclick = () => {\n",
              "      resolve(null);\n",
              "    };\n",
              "  });\n",
              "\n",
              "  // Wait for the user to pick the files.\n",
              "  const files = yield {\n",
              "    promise: Promise.race([pickedPromise, cancelPromise]),\n",
              "    response: {\n",
              "      action: 'starting',\n",
              "    }\n",
              "  };\n",
              "\n",
              "  cancel.remove();\n",
              "\n",
              "  // Disable the input element since further picks are not allowed.\n",
              "  inputElement.disabled = true;\n",
              "\n",
              "  if (!files) {\n",
              "    return {\n",
              "      response: {\n",
              "        action: 'complete',\n",
              "      }\n",
              "    };\n",
              "  }\n",
              "\n",
              "  for (const file of files) {\n",
              "    const li = document.createElement('li');\n",
              "    li.append(span(file.name, {fontWeight: 'bold'}));\n",
              "    li.append(span(\n",
              "        `(${file.type || 'n/a'}) - ${file.size} bytes, ` +\n",
              "        `last modified: ${\n",
              "            file.lastModifiedDate ? file.lastModifiedDate.toLocaleDateString() :\n",
              "                                    'n/a'} - `));\n",
              "    const percent = span('0% done');\n",
              "    li.appendChild(percent);\n",
              "\n",
              "    outputElement.appendChild(li);\n",
              "\n",
              "    const fileDataPromise = new Promise((resolve) => {\n",
              "      const reader = new FileReader();\n",
              "      reader.onload = (e) => {\n",
              "        resolve(e.target.result);\n",
              "      };\n",
              "      reader.readAsArrayBuffer(file);\n",
              "    });\n",
              "    // Wait for the data to be ready.\n",
              "    let fileData = yield {\n",
              "      promise: fileDataPromise,\n",
              "      response: {\n",
              "        action: 'continue',\n",
              "      }\n",
              "    };\n",
              "\n",
              "    // Use a chunked sending to avoid message size limits. See b/62115660.\n",
              "    let position = 0;\n",
              "    do {\n",
              "      const length = Math.min(fileData.byteLength - position, MAX_PAYLOAD_SIZE);\n",
              "      const chunk = new Uint8Array(fileData, position, length);\n",
              "      position += length;\n",
              "\n",
              "      const base64 = btoa(String.fromCharCode.apply(null, chunk));\n",
              "      yield {\n",
              "        response: {\n",
              "          action: 'append',\n",
              "          file: file.name,\n",
              "          data: base64,\n",
              "        },\n",
              "      };\n",
              "\n",
              "      let percentDone = fileData.byteLength === 0 ?\n",
              "          100 :\n",
              "          Math.round((position / fileData.byteLength) * 100);\n",
              "      percent.textContent = `${percentDone}% done`;\n",
              "\n",
              "    } while (position < fileData.byteLength);\n",
              "  }\n",
              "\n",
              "  // All done.\n",
              "  yield {\n",
              "    response: {\n",
              "      action: 'complete',\n",
              "    }\n",
              "  };\n",
              "}\n",
              "\n",
              "scope.google = scope.google || {};\n",
              "scope.google.colab = scope.google.colab || {};\n",
              "scope.google.colab._files = {\n",
              "  _uploadFiles,\n",
              "  _uploadFilesContinue,\n",
              "};\n",
              "})(self);\n",
              "</script> "
            ]
          },
          "metadata": {}
        },
        {
          "output_type": "stream",
          "name": "stdout",
          "text": [
            "Saving crimeTable.csv to crimeTable (1).csv\n"
          ]
        }
      ]
    },
    {
      "cell_type": "code",
      "source": [
        "from pyspark.sql import SparkSession\n",
        "\n",
        "# Create a Spark session\n",
        "spark = SparkSession.builder.master(\"local[*]\").getOrCreate()\n",
        "\n",
        "# Read the uploaded CSV file\n",
        "df = spark.read.csv('/content/crimeTable.csv', header=True, inferSchema=True)\n",
        "\n",
        "# Check the schema to ensure the column names are correct\n",
        "df.printSchema()\n"
      ],
      "metadata": {
        "colab": {
          "base_uri": "https://localhost:8080/"
        },
        "id": "tU05i0vbkgF6",
        "outputId": "9973f151-2597-4d7d-ac40-6152aab1c6e1"
      },
      "execution_count": null,
      "outputs": [
        {
          "output_type": "stream",
          "name": "stdout",
          "text": [
            "root\n",
            " |-- DR_NO: integer (nullable = true)\n",
            " |-- Date_Rptd: string (nullable = true)\n",
            " |-- DATE_OCC: string (nullable = true)\n",
            " |-- TIME_OCC: integer (nullable = true)\n",
            " |-- AREA: integer (nullable = true)\n",
            " |-- AREA_NAME: string (nullable = true)\n",
            " |-- Rpt_Dist_No: integer (nullable = true)\n",
            " |-- Part_1_2: integer (nullable = true)\n",
            " |-- Crm_Cd: integer (nullable = true)\n",
            " |-- Crm_Cd_Desc: string (nullable = true)\n",
            " |-- Mocodes: string (nullable = true)\n",
            " |-- Vict_Age: integer (nullable = true)\n",
            " |-- Vict_Sex: string (nullable = true)\n",
            " |-- Vict_Descent: string (nullable = true)\n",
            " |-- Premis_Cd: integer (nullable = true)\n",
            " |-- Premis_Desc: string (nullable = true)\n",
            " |-- Weapon_Used_Cd: integer (nullable = true)\n",
            " |-- Weapon_Desc: string (nullable = true)\n",
            " |-- Status: string (nullable = true)\n",
            " |-- Status_Desc: string (nullable = true)\n",
            " |-- Crm_Cd_1: integer (nullable = true)\n",
            " |-- Crm_Cd_2: integer (nullable = true)\n",
            " |-- Crm_Cd_3: integer (nullable = true)\n",
            " |-- Crm_Cd_4: integer (nullable = true)\n",
            " |-- LOCATION: string (nullable = true)\n",
            " |-- Cross_Street: string (nullable = true)\n",
            " |-- LAT: double (nullable = true)\n",
            " |-- LON: double (nullable = true)\n",
            "\n"
          ]
        }
      ]
    },
    {
      "cell_type": "code",
      "source": [
        "# Groups crime description by victim demographic\n",
        "\n",
        "rdd = df.select(\"Crm_Cd_Desc\",\"Vict_Sex\",\"Vict_Descent\",\"Vict_Age\").rdd\n",
        "\n",
        "def renameCrimes(crime):\n",
        "    crimeDesc = crime[\"Crm_Cd_Desc\"] if crime[\"Crm_Cd_Desc\"] else \"NA\"\n",
        "    age = crime[\"Vict_Age\"]\n",
        "    Crime_Category = \"Other Crimes\"\n",
        "    ageDesc = \"NA\"\n",
        "\n",
        "    if any(keyword in crimeDesc for keyword in [\"ASSAULT\",\"BATTERY\",\"HOMICIDE\"]):\n",
        "        Crime_Category= \"Violent Crimes\"\n",
        "    elif any(keyword in crimeDesc for keyword in [\"RAPE\",\"SEXUAL\",\"LEWD\"]):\n",
        "        Crime_Category= \"Sex Crimes\"\n",
        "    elif any(keyword in crimeDesc for keyword in [\"BURGLARY\",\"THEFT\",\"SHOPLIFT\"]):\n",
        "        Crime_Category= \"Property Crimes\"\n",
        "    elif any(keyword in crimeDesc for keyword in [\"STOLEN\",\"VEHICLE\",\"AUTO\"]):\n",
        "        Crime_Category= \"Vehicle-Related Crimes\"\n",
        "    elif any(keyword in crimeDesc for keyword in [\"FIREARM\",\"WEAPON\"]):\n",
        "        Crime_Category= \"Weapons & Explosives\"\n",
        "    elif any(keyword in crimeDesc for keyword in [\"CHILD\",\"MINOR\"]):\n",
        "        Crime_Category= \"Crimes Against Children\"\n",
        "    elif any(keyword in crimeDesc for keyword in [\"FRAUD\",\"FORGERY\"]):\n",
        "        Crime_Category= \"Fraud & Financial Crimes\"\n",
        "    elif any(keyword in crimeDesc for keyword in [\"DRUG\",\"ALCOHOL\"]):\n",
        "        Crime_Category= \"Drug & Alcohol-Related Crimes\"\n",
        "    elif any(keyword in crimeDesc for keyword in [\"TRESPASS\",\"DISTURBING\"]):\n",
        "        Crime_Category= \"Public Disturbance\"\n",
        "    elif any(keyword in crimeDesc for keyword in [\"TRAFFICKING\",\"EXPLOITATION\"]):\n",
        "        Crime_Category= \"Human Trafficking & Exploitation\"\n",
        "    elif any(keyword in crimeDesc for keyword in [\"THREAT\",\"HARASS\"]):\n",
        "        Crime_Category = \"Threats & Harassment\"\n",
        "    elif any(keyword in crimeDesc for keyword in [\"COURT\", \"VIOLATION\"]):\n",
        "        Crime_Category= \"Court & Legal Violations\"\n",
        "\n",
        "\n",
        "    if 1 <= age <= 12:\n",
        "      ageDesc = \"Child (1-12)\"\n",
        "    elif 13 <= age <= 17:\n",
        "      ageDesc = \"Teen (13-17)\"\n",
        "    elif 18 <= age <= 25:\n",
        "      ageDesc = \"Young Adult (18-25)\"\n",
        "    elif 26 <= age <= 40:\n",
        "      ageDesc = \"Adult (26-40)\"\n",
        "    elif 41 <= age <= 60:\n",
        "      ageDesc = \"Middle-Aged\"\n",
        "    elif age>= 60:\n",
        "      ageDesc = \"Senior (60+)\"\n",
        "    else:\n",
        "      ageDesc = \"NA\"\n",
        "\n",
        "    return ((Crime_Category, crime[\"Vict_Sex\"], crime[\"Vict_Descent\"], ageDesc), 1)\n",
        "\n",
        "rddMapped = rdd.map(renameCrimes)\n",
        "rddReduced = rddMapped.reduceByKey(lambda a,b: a+b)\n",
        "print(rddReduced.collect())\n",
        "\n",
        "\n",
        "\n",
        "\n"
      ],
      "metadata": {
        "colab": {
          "base_uri": "https://localhost:8080/",
          "height": 211
        },
        "id": "1JXEQ4ZnYUo3",
        "outputId": "46c73831-d6f9-4a90-cf43-5c87affcdd36"
      },
      "execution_count": 8,
      "outputs": [
        {
          "output_type": "error",
          "ename": "NameError",
          "evalue": "name 'df' is not defined",
          "traceback": [
            "\u001b[0;31m---------------------------------------------------------------------------\u001b[0m",
            "\u001b[0;31mNameError\u001b[0m                                 Traceback (most recent call last)",
            "\u001b[0;32m<ipython-input-8-07a1f2b00e68>\u001b[0m in \u001b[0;36m<cell line: 0>\u001b[0;34m()\u001b[0m\n\u001b[1;32m      1\u001b[0m \u001b[0;31m# Groups crime description by victim demographic\u001b[0m\u001b[0;34m\u001b[0m\u001b[0;34m\u001b[0m\u001b[0m\n\u001b[1;32m      2\u001b[0m \u001b[0;34m\u001b[0m\u001b[0m\n\u001b[0;32m----> 3\u001b[0;31m \u001b[0mrdd\u001b[0m \u001b[0;34m=\u001b[0m \u001b[0mdf\u001b[0m\u001b[0;34m.\u001b[0m\u001b[0mselect\u001b[0m\u001b[0;34m(\u001b[0m\u001b[0;34m\"Crm_Cd_Desc\"\u001b[0m\u001b[0;34m,\u001b[0m\u001b[0;34m\"Vict_Sex\"\u001b[0m\u001b[0;34m,\u001b[0m\u001b[0;34m\"Vict_Descent\"\u001b[0m\u001b[0;34m,\u001b[0m\u001b[0;34m\"Vict_Age\"\u001b[0m\u001b[0;34m)\u001b[0m\u001b[0;34m.\u001b[0m\u001b[0mrdd\u001b[0m\u001b[0;34m\u001b[0m\u001b[0;34m\u001b[0m\u001b[0m\n\u001b[0m\u001b[1;32m      4\u001b[0m \u001b[0;34m\u001b[0m\u001b[0m\n\u001b[1;32m      5\u001b[0m \u001b[0;32mdef\u001b[0m \u001b[0mrenameCrimes\u001b[0m\u001b[0;34m(\u001b[0m\u001b[0mcrime\u001b[0m\u001b[0;34m)\u001b[0m\u001b[0;34m:\u001b[0m\u001b[0;34m\u001b[0m\u001b[0;34m\u001b[0m\u001b[0m\n",
            "\u001b[0;31mNameError\u001b[0m: name 'df' is not defined"
          ]
        }
      ]
    },
    {
      "cell_type": "code",
      "source": [],
      "metadata": {
        "id": "cp_D32w-Pjwy"
      },
      "execution_count": null,
      "outputs": []
    }
  ]
}